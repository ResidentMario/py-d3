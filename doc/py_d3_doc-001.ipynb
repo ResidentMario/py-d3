{
 "cells": [
  {
   "cell_type": "markdown",
   "metadata": {},
   "source": [
    "# <center>`py_d3` documentation - 1. Introduction</center>"
   ]
  },
  {
   "cell_type": "code",
   "execution_count": 1,
   "metadata": {},
   "outputs": [
    {
     "data": {
      "text/markdown": [
       "\n",
       "## <a href=\"py_d3_doc-001.ipynb\" style=\"text-decoration:none;\">**1. Introduction**</a>\n",
       "- ### <a href=\"py_d3_doc-001.ipynb#Install\" style=\"text-decoration:none\">Install</a>\n",
       "    + #### <a href=\"py_d3_doc-001.ipynb#Dependencies\" style=\"text-decoration:none\">Dependencies</a>\n",
       "    + #### <a href=\"py_d3_doc-001.ipynb#User-install\" style=\"text-decoration:none\">User install</a>\n",
       "    + #### <a href=\"py_d3_doc-001.ipynb#Developer-install\" style=\"text-decoration:none\">Developer install</a>\n",
       "\n",
       "## <a href=\"py_d3_doc-002.ipynb\" style=\"text-decoration:none;\">**2. Basic usage**</a>\n",
       "- ### <a href=\"py_d3_doc-002.ipynb#Loading-versions\" style=\"text-decoration:none\">Loading versions</a>\n",
       "- ### <a href=\"py_d3_doc-002.ipynb#Verbose-mode\" style=\"text-decoration:none\">Verbose mode</a>\n",
       "- ### <a href=\"py_d3_doc-002.ipynb#D3-online-documentation\" style=\"text-decoration:none\">D3 online documentation</a>\n",
       "\n",
       "## <a href=\"py_d3_doc-003.ipynb\" style=\"text-decoration:none;\">**3. Utils**</a>\n",
       "- ### <a href=\"py_d3_doc-003.ipynb#D3-online-documentation\" style=\"text-decoration:none\">D3 online documentation</a>\n",
       "\n",
       "## <a href=\"py_d3_doc-004.ipynb\" style=\"text-decoration:none;\">**4. Gists**</a>\n",
       "- ### <a href=\"py_d3_doc-004.ipynb#Loading-Github-gists\" style=\"text-decoration:none\">Loading Github gists</a>\n",
       "\n",
       "## <a href=\"py_d3_doc-005.ipynb\" style=\"text-decoration:none;\">**5. Running online examples**</a>\n",
       "\n",
       "## <a href=\"py_d3_doc-006.ipynb\" style=\"text-decoration:none;\">**6. Generating online code examples**</a>\n"
      ],
      "text/plain": [
       "<IPython.core.display.Markdown object>"
      ]
     },
     "metadata": {},
     "output_type": "display_data"
    }
   ],
   "source": [
    "from utils import index\n",
    "index()"
   ]
  },
  {
   "cell_type": "markdown",
   "metadata": {},
   "source": [
    "__________________________"
   ]
  },
  {
   "cell_type": "markdown",
   "metadata": {},
   "source": [
    "## Install"
   ]
  },
  {
   "cell_type": "markdown",
   "metadata": {},
   "source": [
    "### Dependencies\n",
    "- [**`ipywidgets`**](https://ipywidgets.readthedocs.io/en/latest/): `pip install ipywidgets`"
   ]
  },
  {
   "cell_type": "markdown",
   "metadata": {},
   "source": [
    "### User install\n",
    "```\n",
    "pip install https://github.com/mondeja/py_d3/archive/master.zip\n",
    "```\n",
    "\n",
    "or\n",
    "\n",
    "```\n",
    "git clone https://github.com/mondeja/py_d3.git\n",
    "cd py_d3\n",
    "pip install -r requirements.txt\n",
    "python setup.py install\n",
    "```"
   ]
  },
  {
   "cell_type": "markdown",
   "metadata": {},
   "source": [
    "### Developer install\n",
    "\n",
    "    git clone https://github.com/mondeja/py_d3.git\n",
    "    cd py_d3\n",
    "    pip install -r dev-requirements.txt\n",
    "    python setup.py install\n"
   ]
  },
  {
   "cell_type": "code",
   "execution_count": 1,
   "metadata": {},
   "outputs": [
    {
     "data": {
      "text/markdown": [
       "\n",
       "_________________________\n",
       "### <center>1. Introduction | [2. Basic usage ➡](py_d3_doc-002.ipynb)</center>\n",
       "\n",
       "### **Index**:\n",
       "1. <a href=\"py_d3_doc-001.ipynb\" style=\"text-decoration:none\">**Introduction**</a>\n",
       "2. <a href=\"py_d3_doc-002.ipynb\" style=\"text-decoration:none\">**Basic usage**</a>\n",
       "3. <a href=\"py_d3_doc-003.ipynb\" style=\"text-decoration:none\">**Gists**</a>\n",
       "4. <a href=\"py_d3_doc-004.ipynb\" style=\"text-decoration:none\">**Running online examples**</a>\n",
       "5. <a href=\"py_d3_doc-005.ipynb\" style=\"text-decoration:none\">**Generating online code examples**</a>\n"
      ],
      "text/plain": [
       "<IPython.core.display.Markdown object>"
      ]
     },
     "metadata": {},
     "output_type": "display_data"
    }
   ],
   "source": [
    "from utils import footer\n",
    "footer(1)"
   ]
  },
  {
   "cell_type": "code",
   "execution_count": null,
   "metadata": {},
   "outputs": [],
   "source": []
  }
 ],
 "metadata": {
  "kernelspec": {
   "display_name": "Python 3",
   "language": "python",
   "name": "python3"
  },
  "language_info": {
   "codemirror_mode": {
    "name": "ipython",
    "version": 3
   },
   "file_extension": ".py",
   "mimetype": "text/x-python",
   "name": "python",
   "nbconvert_exporter": "python",
   "pygments_lexer": "ipython3",
   "version": "3.6.4"
  }
 },
 "nbformat": 4,
 "nbformat_minor": 2
}
