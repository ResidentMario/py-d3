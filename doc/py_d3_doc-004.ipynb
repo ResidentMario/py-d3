{
 "cells": [
  {
   "cell_type": "markdown",
   "metadata": {},
   "source": [
    "# <center>`py_d3` documentation - 4. Running online examples</center>"
   ]
  },
  {
   "cell_type": "markdown",
   "metadata": {},
   "source": [
    "> `py_d3` uses [blockbuilder.org](http://blockbuilder.org/) API to search examples by D3 version."
   ]
  },
  {
   "cell_type": "code",
   "execution_count": 1,
   "metadata": {},
   "outputs": [],
   "source": [
    "%run ../py_d3/py_d3.py"
   ]
  },
  {
   "cell_type": "markdown",
   "metadata": {},
   "source": [
    "You can get all the online examples for the version of D3 currently in use."
   ]
  },
  {
   "cell_type": "code",
   "execution_count": null,
   "metadata": {},
   "outputs": [],
   "source": [
    "%d3 examples"
   ]
  },
  {
   "cell_type": "markdown",
   "metadata": {},
   "source": [
    "As default, searched examples are from version in use. To see that:"
   ]
  },
  {
   "cell_type": "code",
   "execution_count": null,
   "metadata": {},
   "outputs": [],
   "source": [
    "%d3 version"
   ]
  },
  {
   "cell_type": "markdown",
   "metadata": {},
   "source": [
    "You can filter by several fields in the search. For example, see the examples in other version (only is possible indicate the major versions `2`, `3` and `4`):"
   ]
  },
  {
   "cell_type": "code",
   "execution_count": null,
   "metadata": {},
   "outputs": [],
   "source": [
    "%d3 examples version=3"
   ]
  },
  {
   "cell_type": "markdown",
   "metadata": {},
   "source": [
    "And, if we could filter by user?"
   ]
  },
  {
   "cell_type": "code",
   "execution_count": null,
   "metadata": {},
   "outputs": [],
   "source": [
    "%d3 examples user=\"mbostock\""
   ]
  },
  {
   "cell_type": "markdown",
   "metadata": {},
   "source": [
    "> If you want to submit your own examples see [Enjalot's blockbuilder github repository](https://github.com/enjalot/blockbuilder)."
   ]
  },
  {
   "cell_type": "markdown",
   "metadata": {},
   "source": [
    "You can filter by D3 modules passing the argument as a list. The examples on the result will have these modules in use. "
   ]
  },
  {
   "cell_type": "code",
   "execution_count": null,
   "metadata": {},
   "outputs": [],
   "source": [
    "%d3 examples modules=[\"d3-legend\", \"d3-geo\"]"
   ]
  },
  {
   "cell_type": "markdown",
   "metadata": {},
   "source": [
    "If you want to know what are all the valid modules passed to this command use:"
   ]
  },
  {
   "cell_type": "code",
   "execution_count": null,
   "metadata": {},
   "outputs": [],
   "source": [
    "%d3 modules"
   ]
  },
  {
   "cell_type": "markdown",
   "metadata": {},
   "source": [
    "> See also: \n",
    "- [Basic usage](basic_usage.ipynb)\n",
    "- [`%d3 generator` usage](%d3-generator.ipynb)"
   ]
  },
  {
   "cell_type": "code",
   "execution_count": 2,
   "metadata": {},
   "outputs": [
    {
     "data": {
      "text/markdown": [
       "\n",
       "_________________________\n",
       "### <center>[⬅ 3. Gists](py_d3_doc-003.ipynb) | 4. Running online examples | [5. Generating online code examples ➡](py_d3_doc-005.ipynb)</center>\n",
       "\n",
       "### **Index**:\n",
       "1. <a href=\"py_d3_doc-001.ipynb\" style=\"text-decoration:none\">**Introduction**</a>\n",
       "2. <a href=\"py_d3_doc-002.ipynb\" style=\"text-decoration:none\">**Basic usage**</a>\n",
       "3. <a href=\"py_d3_doc-003.ipynb\" style=\"text-decoration:none\">**Gists**</a>\n",
       "4. <a href=\"py_d3_doc-004.ipynb\" style=\"text-decoration:none\">**Running online examples**</a>\n",
       "5. <a href=\"py_d3_doc-005.ipynb\" style=\"text-decoration:none\">**Generating online code examples**</a>\n"
      ],
      "text/plain": [
       "<IPython.core.display.Markdown object>"
      ]
     },
     "metadata": {},
     "output_type": "display_data"
    }
   ],
   "source": [
    "from utils import footer\n",
    "footer(4)"
   ]
  },
  {
   "cell_type": "code",
   "execution_count": null,
   "metadata": {},
   "outputs": [],
   "source": []
  }
 ],
 "metadata": {
  "kernelspec": {
   "display_name": "Python 3",
   "language": "python",
   "name": "python3"
  },
  "language_info": {
   "codemirror_mode": {
    "name": "ipython",
    "version": 3
   },
   "file_extension": ".py",
   "mimetype": "text/x-python",
   "name": "python",
   "nbconvert_exporter": "python",
   "pygments_lexer": "ipython3",
   "version": "3.6.4"
  }
 },
 "nbformat": 4,
 "nbformat_minor": 2
}
