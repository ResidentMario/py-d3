{
 "cells": [
  {
   "cell_type": "markdown",
   "metadata": {},
   "source": [
    "# <center>`py_d3` documentation - 2. Basic usage</center>"
   ]
  },
  {
   "cell_type": "code",
   "execution_count": 2,
   "metadata": {},
   "outputs": [],
   "source": [
    "%run ../py_d3/py_d3.py"
   ]
  },
  {
   "cell_type": "markdown",
   "metadata": {},
   "source": [
    "## Loading versions\n",
    "`py_d3` can load several versions of D3. You can see all available CDNJS versions with:"
   ]
  },
  {
   "cell_type": "code",
   "execution_count": null,
   "metadata": {},
   "outputs": [],
   "source": [
    "%d3"
   ]
  },
  {
   "cell_type": "markdown",
   "metadata": {},
   "source": [
    "You can load any version passing it as first argument. The version loaded at first will be the unique possible at current notebook."
   ]
  },
  {
   "cell_type": "code",
   "execution_count": null,
   "metadata": {
    "scrolled": true
   },
   "outputs": [],
   "source": [
    "%%d3 \"3.5.17\"\n",
    "\n",
    "<g></g>"
   ]
  },
  {
   "cell_type": "markdown",
   "metadata": {},
   "source": [
    "Also a local file can be loaded passing his path. Will raise a ValueError if is not founded."
   ]
  },
  {
   "cell_type": "code",
   "execution_count": null,
   "metadata": {},
   "outputs": [],
   "source": [
    "%%d3 \"d3.v5.min.js\"\n",
    "\n",
    "<g></g>"
   ]
  },
  {
   "cell_type": "markdown",
   "metadata": {},
   "source": [
    "__________________________________________\n"
   ]
  },
  {
   "cell_type": "markdown",
   "metadata": {},
   "source": [
    "## Verbose mode\n",
    "\n",
    "If you want to see the whole HTML generated in cell rendering, pass `-v` flag:"
   ]
  },
  {
   "cell_type": "code",
   "execution_count": null,
   "metadata": {},
   "outputs": [],
   "source": [
    "%%d3 -v\n",
    "\n",
    "<g id=\"container\"></g>\n",
    "\n",
    "<script>\n",
    "d3.select(\"#container\").append(\"p\").text(\"Hello world!\");\n",
    "</script>"
   ]
  },
  {
   "cell_type": "markdown",
   "metadata": {},
   "source": [
    "__________________________________________\n"
   ]
  },
  {
   "cell_type": "markdown",
   "metadata": {},
   "source": [
    "## D3 online documentation\n",
    "If you want consult D3 documentation without exit of your notebook, just use:"
   ]
  },
  {
   "cell_type": "code",
   "execution_count": null,
   "metadata": {},
   "outputs": [],
   "source": [
    "%d3 doc"
   ]
  },
  {
   "cell_type": "markdown",
   "metadata": {},
   "source": [
    "Or by module:"
   ]
  },
  {
   "cell_type": "code",
   "execution_count": null,
   "metadata": {},
   "outputs": [],
   "source": [
    "%d3 doc d3-axis"
   ]
  },
  {
   "cell_type": "code",
   "execution_count": null,
   "metadata": {},
   "outputs": [],
   "source": [
    "%d3 doc d3-array"
   ]
  },
  {
   "cell_type": "markdown",
   "metadata": {},
   "source": [
    "<div class=\"alert alert-info\">\n",
    "To se all available modules just call `%d3 modules`.\n",
    "</div>"
   ]
  },
  {
   "cell_type": "code",
   "execution_count": null,
   "metadata": {},
   "outputs": [],
   "source": [
    "%d3 modules"
   ]
  },
  {
   "cell_type": "code",
   "execution_count": 3,
   "metadata": {},
   "outputs": [
    {
     "data": {
      "text/markdown": [
       "\n",
       "_________________________\n",
       "### <center>[⬅ 1. Introduction](py_d3_doc-001.ipynb) | 2. Basic usage | [3. Utils ➡](py_d3_doc-003.ipynb)</center>\n",
       "\n",
       "### **Index**:\n",
       "1. <a href=\"py_d3_doc-001.ipynb\" style=\"text-decoration:none\">**Introduction**</a>\n",
       "2. <a href=\"py_d3_doc-002.ipynb\" style=\"text-decoration:none\">**Basic usage**</a>\n",
       "3. <a href=\"py_d3_doc-003.ipynb\" style=\"text-decoration:none\">**Utils**</a>\n",
       "4. <a href=\"py_d3_doc-004.ipynb\" style=\"text-decoration:none\">**Gists**</a>\n",
       "5. <a href=\"py_d3_doc-005.ipynb\" style=\"text-decoration:none\">**Running online examples**</a>\n",
       "6. <a href=\"py_d3_doc-006.ipynb\" style=\"text-decoration:none\">**Generating online code examples**</a>\n"
      ],
      "text/plain": [
       "<IPython.core.display.Markdown object>"
      ]
     },
     "metadata": {},
     "output_type": "display_data"
    }
   ],
   "source": [
    "from utils import footer\n",
    "footer(2)"
   ]
  },
  {
   "cell_type": "markdown",
   "metadata": {},
   "source": [
    "> See also: \n",
    "- [`%%d3 examples` usage](%d3-examples.ipynb)\n",
    "- [`%%d3 generator` usage](%d3-generator.ipynb)"
   ]
  }
 ],
 "metadata": {
  "kernelspec": {
   "display_name": "Python 3",
   "language": "python",
   "name": "python3"
  },
  "language_info": {
   "codemirror_mode": {
    "name": "ipython",
    "version": 3
   },
   "file_extension": ".py",
   "mimetype": "text/x-python",
   "name": "python",
   "nbconvert_exporter": "python",
   "pygments_lexer": "ipython3",
   "version": "3.6.4"
  }
 },
 "nbformat": 4,
 "nbformat_minor": 2
}
