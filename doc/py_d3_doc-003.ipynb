{
 "cells": [
  {
   "cell_type": "markdown",
   "metadata": {},
   "source": [
    "# <center>`py_d3` documentation - 3. Gists</center>"
   ]
  },
  {
   "cell_type": "code",
   "execution_count": 1,
   "metadata": {},
   "outputs": [],
   "source": [
    "%run ../py_d3/py_d3.py"
   ]
  },
  {
   "cell_type": "markdown",
   "metadata": {},
   "source": [
    "## Loading Github gists"
   ]
  },
  {
   "cell_type": "markdown",
   "metadata": {},
   "source": [
    "You can load Github's gists passing a gist id as first parameter. D3 code will be inserted in a new cell:"
   ]
  },
  {
   "cell_type": "code",
   "execution_count": null,
   "metadata": {},
   "outputs": [],
   "source": [
    "%d3 gist \"87746f16b83cb9d5371394a001cbd772\""
   ]
  },
  {
   "cell_type": "code",
   "execution_count": null,
   "metadata": {},
   "outputs": [],
   "source": [
    "%%d3\n",
    "<style>\n",
    "\n",
    ".selected {\n",
    "  fill: red;\n",
    "  stroke: brown;\n",
    "}\n",
    "\n",
    "</style>\n",
    "<svg width=\"960\" height=\"500\"></svg>\n",
    "<script>\n",
    "\n",
    "var randomX = d3.randomUniform(0, 10),\n",
    "    randomY = d3.randomNormal(0.5, 0.12),\n",
    "    data = d3.range(800).map(function() { return [randomX(), randomY()]; });\n",
    "\n",
    "var svg = d3.select(\"svg\"),\n",
    "    margin = {top: 194, right: 50, bottom: 214, left: 50},\n",
    "    width = +svg.attr(\"width\") - margin.left - margin.right,\n",
    "    height = +svg.attr(\"height\") - margin.top - margin.bottom,\n",
    "    g = svg.append(\"g\").attr(\"transform\", \"translate(\" + margin.left + \",\" + margin.top + \")\");\n",
    "\n",
    "var x = d3.scaleLinear()\n",
    "    .domain([0, 10])\n",
    "    .range([0, width]);\n",
    "\n",
    "var y = d3.scaleLinear()\n",
    "    .range([height, 0]);\n",
    "\n",
    "var brush = d3.brushX()\n",
    "    .extent([[0, 0], [width, height]])\n",
    "    .on(\"start brush\", brushed);\n",
    "\n",
    "var dot = g.append(\"g\")\n",
    "    .attr(\"fill-opacity\", 0.2)\n",
    "  .selectAll(\"circle\")\n",
    "  .data(data)\n",
    "  .enter().append(\"circle\")\n",
    "    .attr(\"transform\", function(d) { return \"translate(\" + x(d[0]) + \",\" + y(d[1]) + \")\"; })\n",
    "    .attr(\"r\", 3.5);\n",
    "\n",
    "g.append(\"g\")\n",
    "    .call(brush)\n",
    "    .call(brush.move, [3, 5].map(x))\n",
    "  .selectAll(\".overlay\")\n",
    "    .on(\"mousedown touchstart\", beforebrushed, true);\n",
    "\n",
    "g.append(\"g\")\n",
    "    .attr(\"transform\", \"translate(0,\" + height + \")\")\n",
    "    .call(d3.axisBottom(x));\n",
    "\n",
    "function beforebrushed() {\n",
    "  d3.event.stopImmediatePropagation();\n",
    "  d3.select(this.parentNode).transition().call(brush.move, x.range());\n",
    "}\n",
    "\n",
    "function brushed() {\n",
    "  var extent = d3.event.selection.map(x.invert, x);\n",
    "  dot.classed(\"selected\", function(d) { return extent[0] <= d[0] && d[0] <= extent[1]; });\n",
    "}\n",
    "\n",
    "</script>"
   ]
  },
  {
   "cell_type": "code",
   "execution_count": 2,
   "metadata": {},
   "outputs": [
    {
     "data": {
      "text/markdown": [
       "\n",
       "_________________________\n",
       "### <center>[⬅ 2. Basic usage](py_d3_doc-002.ipynb) | 3. Gists | [4. Running online examples ➡](py_d3_doc-004.ipynb)</center>\n",
       "\n",
       "### **Index**:\n",
       "1. <a href=\"py_d3_doc-001.ipynb\" style=\"text-decoration:none\">**Introduction**</a>\n",
       "2. <a href=\"py_d3_doc-002.ipynb\" style=\"text-decoration:none\">**Basic usage**</a>\n",
       "3. <a href=\"py_d3_doc-003.ipynb\" style=\"text-decoration:none\">**Gists**</a>\n",
       "4. <a href=\"py_d3_doc-004.ipynb\" style=\"text-decoration:none\">**Running online examples**</a>\n",
       "5. <a href=\"py_d3_doc-005.ipynb\" style=\"text-decoration:none\">**Generating online code examples**</a>\n"
      ],
      "text/plain": [
       "<IPython.core.display.Markdown object>"
      ]
     },
     "metadata": {},
     "output_type": "display_data"
    }
   ],
   "source": [
    "from utils import footer\n",
    "footer(3)"
   ]
  },
  {
   "cell_type": "code",
   "execution_count": null,
   "metadata": {},
   "outputs": [],
   "source": []
  }
 ],
 "metadata": {
  "kernelspec": {
   "display_name": "Python 3",
   "language": "python",
   "name": "python3"
  },
  "language_info": {
   "codemirror_mode": {
    "name": "ipython",
    "version": 3
   },
   "file_extension": ".py",
   "mimetype": "text/x-python",
   "name": "python",
   "nbconvert_exporter": "python",
   "pygments_lexer": "ipython3",
   "version": "3.6.4"
  }
 },
 "nbformat": 4,
 "nbformat_minor": 2
}
