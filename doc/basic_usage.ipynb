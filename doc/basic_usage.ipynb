{
 "cells": [
  {
   "cell_type": "markdown",
   "metadata": {},
   "source": [
    "# <center>py_d3 basic usage</center>"
   ]
  },
  {
   "cell_type": "code",
   "execution_count": 2,
   "metadata": {},
   "outputs": [],
   "source": [
    "%run ../py_d3/py_d3.py"
   ]
  },
  {
   "cell_type": "markdown",
   "metadata": {},
   "source": [
    "## Loading versions\n",
    "`py_d3` can load several versions of D3. You can see all available CDNJS versions with:"
   ]
  },
  {
   "cell_type": "code",
   "execution_count": 2,
   "metadata": {},
   "outputs": [
    {
     "name": "stdout",
     "output_type": "stream",
     "text": [
      "4.13.0\n",
      "4.12.2\n",
      "4.12.1\n",
      "4.12.0\n",
      "4.11.0\n",
      "4.10.2\n",
      "4.10.1\n",
      "4.10.0\n",
      "4.9.1\n",
      "4.9.0\n",
      "4.8.0\n",
      "4.7.4\n",
      "4.7.3\n",
      "4.7.2\n",
      "4.7.1\n",
      "4.7.0\n",
      "4.6.0\n",
      "4.5.1\n",
      "4.5.0\n",
      "4.4.4\n",
      "4.4.3\n",
      "4.4.2\n",
      "4.4.1\n",
      "4.4.0\n",
      "4.3.0\n",
      "4.2.8\n",
      "4.2.7\n",
      "4.2.6\n",
      "4.2.5\n",
      "4.2.4\n",
      "4.2.3\n",
      "4.2.2\n",
      "4.2.1\n",
      "4.2.0\n",
      "4.1.1\n",
      "4.1.0\n",
      "4.0.0-rc.2\n",
      "4.0.0-rc.1\n",
      "4.0.0-alpha.50\n",
      "4.0.0-alpha.49\n",
      "4.0.0-alpha.48\n",
      "4.0.0-alpha.47\n",
      "4.0.0-alpha.46\n",
      "4.0.0-alpha.45\n",
      "4.0.0-alpha.44\n",
      "4.0.0-alpha.43\n",
      "4.0.0-alpha.42\n",
      "4.0.0-alpha.41\n",
      "4.0.0-alpha.40\n",
      "4.0.0-alpha.39\n",
      "4.0.0-alpha.38\n",
      "4.0.0-alpha.37\n",
      "4.0.0-alpha.36\n",
      "4.0.0-alpha.35\n",
      "4.0.0-alpha.34\n",
      "4.0.0-alpha.33\n",
      "4.0.0-alpha.32\n",
      "4.0.0-alpha.31\n",
      "4.0.0-alpha.30\n",
      "4.0.0-alpha.29\n",
      "4.0.0-alpha.28\n",
      "4.0.0-alpha.27\n",
      "4.0.0-alpha.26\n",
      "4.0.0-alpha.25\n",
      "4.0.0-alpha.24\n",
      "4.0.0-alpha.23\n",
      "4.0.0-alpha.22\n",
      "4.0.0-alpha.21\n",
      "4.0.0-alpha.20\n",
      "4.0.0-alpha.19\n",
      "4.0.0-alpha.18\n",
      "4.0.0-alpha.17\n",
      "4.0.0-alpha.16\n",
      "4.0.0-alpha.15\n",
      "4.0.0-alpha.14\n",
      "4.0.0-alpha.13\n",
      "4.0.0-alpha.12\n",
      "4.0.0-alpha.11\n",
      "4.0.0-alpha.10\n",
      "4.0.0-alpha.9\n",
      "4.0.0-alpha.7\n",
      "4.0.0-alpha.6\n",
      "4.0.0-alpha.5\n",
      "4.0.0-alpha.4\n",
      "4.0.0-alpha.3\n",
      "4.0.0-alpha.2\n",
      "4.0.0-alpha.1\n",
      "4.0.0\n",
      "3.5.17\n",
      "3.5.16\n",
      "3.5.15\n",
      "3.5.14\n",
      "3.5.13\n",
      "3.5.12\n",
      "3.5.11\n",
      "3.5.10\n",
      "3.5.9\n",
      "3.5.8\n",
      "3.5.7\n",
      "3.5.6\n",
      "3.5.5\n",
      "3.5.4\n",
      "3.5.3\n",
      "3.5.2\n",
      "3.5.1\n",
      "3.5.0\n",
      "3.4.13\n",
      "3.4.12\n",
      "3.4.11\n",
      "3.4.10\n",
      "3.4.9\n",
      "3.4.8\n",
      "3.4.7\n",
      "3.4.6\n",
      "3.4.5\n",
      "3.4.4\n",
      "3.4.3\n",
      "3.4.2\n",
      "3.4.1\n",
      "3.4.0\n",
      "3.3.13\n",
      "3.3.12\n",
      "3.3.11\n",
      "3.3.10\n",
      "3.3.9\n",
      "3.3.8\n",
      "3.3.7\n",
      "3.3.6\n",
      "3.3.5\n",
      "3.3.4\n",
      "3.3.3\n",
      "3.3.2\n",
      "3.3.1\n",
      "3.3.0\n",
      "3.2.8\n",
      "3.2.7\n",
      "3.2.6\n",
      "3.2.5\n",
      "3.2.4\n",
      "3.2.3\n",
      "3.2.2\n",
      "3.2.1\n",
      "3.2.0\n",
      "3.1.10\n",
      "3.1.9\n",
      "3.1.8\n",
      "3.1.7\n",
      "3.1.6\n",
      "3.1.5\n",
      "3.1.4\n",
      "3.1.3\n",
      "3.1.2\n",
      "3.1.1\n",
      "3.1.0\n",
      "3.0.8\n",
      "3.0.7\n",
      "3.0.6\n",
      "3.0.5\n",
      "3.0.4\n",
      "3.0.3\n",
      "3.0.2\n",
      "3.0.1\n",
      "3.0.0\n",
      "2.10.0\n",
      "2.8.1\n",
      "2.7.5\n",
      "2.7.4\n",
      "2.7.3\n",
      "2.7.2\n",
      "2.7.0\n",
      "2.6.0\n",
      "2.5.2\n",
      "2.5.1\n",
      "2.4.2\n",
      "2.4.1\n",
      "2.4.0\n",
      "2.3.4\n",
      "2.3.3\n",
      "2.3.2\n",
      "2.3.0\n",
      "2.2.1\n",
      "2.1.3\n",
      "1.29.5\n"
     ]
    }
   ],
   "source": [
    "%d3"
   ]
  },
  {
   "cell_type": "markdown",
   "metadata": {},
   "source": [
    "You can load any version passing it as first argument. The version loaded at first will be the unique possible at current notebook."
   ]
  },
  {
   "cell_type": "code",
   "execution_count": 5,
   "metadata": {
    "scrolled": true
   },
   "outputs": [
    {
     "data": {
      "text/html": [
       "\n",
       "<script>\n",
       "requirejs.config({\n",
       "    paths: {\n",
       "        d3: \"//cdnjs.cloudflare.com/ajax/libs/d3/3.5.17/d3\"\n",
       "    }\n",
       "});\n",
       "\n",
       "require(['d3'], function(d3) {\n",
       "    window.d3 = d3;\n",
       "});\n",
       "</script>\n",
       "<script>\n",
       "_select = d3.select;\n",
       "\n",
       "d3.select1 = function(selection) {\n",
       "    return _select(\"#d3-cell-1\").select(selection);\n",
       "}\n",
       "d3.selectAll1 = function(selection) {\n",
       "    return _select(\"#d3-cell-1\").selectAll(selection);\n",
       "}\n",
       "</script>\n",
       "<g id=\"d3-cell-1\">\n",
       "\n",
       "<g></g>\n",
       "</g>"
      ],
      "text/plain": [
       "<IPython.core.display.HTML object>"
      ]
     },
     "metadata": {},
     "output_type": "display_data"
    }
   ],
   "source": [
    "%%d3 \"3.5.17\"\n",
    "\n",
    "<g></g>"
   ]
  },
  {
   "cell_type": "markdown",
   "metadata": {},
   "source": [
    "Also a local file can be loaded passing his path. Will raise a ValueError if is not founded."
   ]
  },
  {
   "cell_type": "code",
   "execution_count": 4,
   "metadata": {},
   "outputs": [
    {
     "ename": "ValueError",
     "evalue": "The version d3.v5.min.js is not a valid cdnjs release and is not found as a local file.",
     "output_type": "error",
     "traceback": [
      "\u001b[0;31m---------------------------------------------------------------------------\u001b[0m",
      "\u001b[0;31mValueError\u001b[0m                                Traceback (most recent call last)",
      "\u001b[0;32m<ipython-input-4-89c723c5c423>\u001b[0m in \u001b[0;36m<module>\u001b[0;34m()\u001b[0m\n\u001b[0;32m----> 1\u001b[0;31m \u001b[0mget_ipython\u001b[0m\u001b[0;34m(\u001b[0m\u001b[0;34m)\u001b[0m\u001b[0;34m.\u001b[0m\u001b[0mrun_cell_magic\u001b[0m\u001b[0;34m(\u001b[0m\u001b[0;34m'd3'\u001b[0m\u001b[0;34m,\u001b[0m \u001b[0;34m'\"d3.v5.min.js\"'\u001b[0m\u001b[0;34m,\u001b[0m \u001b[0;34m'\\n<g></g>'\u001b[0m\u001b[0;34m)\u001b[0m\u001b[0;34m\u001b[0m\u001b[0m\n\u001b[0m",
      "\u001b[0;32m/usr/local/lib/python3.6/site-packages/IPython/core/interactiveshell.py\u001b[0m in \u001b[0;36mrun_cell_magic\u001b[0;34m(self, magic_name, line, cell)\u001b[0m\n\u001b[1;32m   2129\u001b[0m             \u001b[0mmagic_arg_s\u001b[0m \u001b[0;34m=\u001b[0m \u001b[0mself\u001b[0m\u001b[0;34m.\u001b[0m\u001b[0mvar_expand\u001b[0m\u001b[0;34m(\u001b[0m\u001b[0mline\u001b[0m\u001b[0;34m,\u001b[0m \u001b[0mstack_depth\u001b[0m\u001b[0;34m)\u001b[0m\u001b[0;34m\u001b[0m\u001b[0m\n\u001b[1;32m   2130\u001b[0m             \u001b[0;32mwith\u001b[0m \u001b[0mself\u001b[0m\u001b[0;34m.\u001b[0m\u001b[0mbuiltin_trap\u001b[0m\u001b[0;34m:\u001b[0m\u001b[0;34m\u001b[0m\u001b[0m\n\u001b[0;32m-> 2131\u001b[0;31m                 \u001b[0mresult\u001b[0m \u001b[0;34m=\u001b[0m \u001b[0mfn\u001b[0m\u001b[0;34m(\u001b[0m\u001b[0mmagic_arg_s\u001b[0m\u001b[0;34m,\u001b[0m \u001b[0mcell\u001b[0m\u001b[0;34m)\u001b[0m\u001b[0;34m\u001b[0m\u001b[0m\n\u001b[0m\u001b[1;32m   2132\u001b[0m             \u001b[0;32mreturn\u001b[0m \u001b[0mresult\u001b[0m\u001b[0;34m\u001b[0m\u001b[0m\n\u001b[1;32m   2133\u001b[0m \u001b[0;34m\u001b[0m\u001b[0m\n",
      "\u001b[0;32m<decorator-gen-125>\u001b[0m in \u001b[0;36md3\u001b[0;34m(self, line, cell)\u001b[0m\n",
      "\u001b[0;32m/usr/local/lib/python3.6/site-packages/IPython/core/magic.py\u001b[0m in \u001b[0;36m<lambda>\u001b[0;34m(f, *a, **k)\u001b[0m\n\u001b[1;32m    185\u001b[0m     \u001b[0;31m# but it's overkill for just that one bit of state.\u001b[0m\u001b[0;34m\u001b[0m\u001b[0;34m\u001b[0m\u001b[0m\n\u001b[1;32m    186\u001b[0m     \u001b[0;32mdef\u001b[0m \u001b[0mmagic_deco\u001b[0m\u001b[0;34m(\u001b[0m\u001b[0marg\u001b[0m\u001b[0;34m)\u001b[0m\u001b[0;34m:\u001b[0m\u001b[0;34m\u001b[0m\u001b[0m\n\u001b[0;32m--> 187\u001b[0;31m         \u001b[0mcall\u001b[0m \u001b[0;34m=\u001b[0m \u001b[0;32mlambda\u001b[0m \u001b[0mf\u001b[0m\u001b[0;34m,\u001b[0m \u001b[0;34m*\u001b[0m\u001b[0ma\u001b[0m\u001b[0;34m,\u001b[0m \u001b[0;34m**\u001b[0m\u001b[0mk\u001b[0m\u001b[0;34m:\u001b[0m \u001b[0mf\u001b[0m\u001b[0;34m(\u001b[0m\u001b[0;34m*\u001b[0m\u001b[0ma\u001b[0m\u001b[0;34m,\u001b[0m \u001b[0;34m**\u001b[0m\u001b[0mk\u001b[0m\u001b[0;34m)\u001b[0m\u001b[0;34m\u001b[0m\u001b[0m\n\u001b[0m\u001b[1;32m    188\u001b[0m \u001b[0;34m\u001b[0m\u001b[0m\n\u001b[1;32m    189\u001b[0m         \u001b[0;32mif\u001b[0m \u001b[0mcallable\u001b[0m\u001b[0;34m(\u001b[0m\u001b[0marg\u001b[0m\u001b[0;34m)\u001b[0m\u001b[0;34m:\u001b[0m\u001b[0;34m\u001b[0m\u001b[0m\n",
      "\u001b[0;32m~/Escritorio/pydocs/my_libraries/py_d3/py_d3/py_d3.py\u001b[0m in \u001b[0;36md3\u001b[0;34m(self, line, cell)\u001b[0m\n\u001b[1;32m    286\u001b[0m                             raise ValueError(\n\u001b[1;32m    287\u001b[0m                                 \u001b[0;34m\"The version %s is not a valid cdnjs \"\u001b[0m \u001b[0;34m%\u001b[0m \u001b[0mline\u001b[0m\u001b[0;31m \u001b[0m\u001b[0;31m\\\u001b[0m\u001b[0;34m\u001b[0m\u001b[0m\n\u001b[0;32m--> 288\u001b[0;31m                                 \u001b[0;34m+\u001b[0m \u001b[0;34m\"release and is not found as a local file.\"\u001b[0m\u001b[0;34m\u001b[0m\u001b[0m\n\u001b[0m\u001b[1;32m    289\u001b[0m                             )\n\u001b[1;32m    290\u001b[0m                     \u001b[0mversion\u001b[0m \u001b[0;34m=\u001b[0m \u001b[0mline\u001b[0m\u001b[0;34m\u001b[0m\u001b[0m\n",
      "\u001b[0;31mValueError\u001b[0m: The version d3.v5.min.js is not a valid cdnjs release and is not found as a local file."
     ]
    }
   ],
   "source": [
    "%%d3 \"d3.v5.min.js\"\n",
    "\n",
    "<g></g>"
   ]
  },
  {
   "cell_type": "markdown",
   "metadata": {},
   "source": [
    "__________________________________________\n",
    "\n",
    "## Verbose mode\n",
    "\n",
    "If you want to see the whole HTML generated in cell rendering, pass `-v` flag:"
   ]
  },
  {
   "cell_type": "code",
   "execution_count": 3,
   "metadata": {},
   "outputs": [
    {
     "name": "stdout",
     "output_type": "stream",
     "text": [
      "\n",
      "<script>\n",
      "requirejs.config({\n",
      "    paths: {\n",
      "        d3: \"//cdnjs.cloudflare.com/ajax/libs/d3/4.13.0/d3\"\n",
      "    }\n",
      "});\n",
      "\n",
      "require([\"d3\"], function(d3) {\n",
      "    window.d3 = d3;\n",
      "});\n",
      "</script>\n",
      "<script>\n",
      "_select = d3.select;\n",
      "\n",
      "d3.select0 = function(selection) {\n",
      "    return _select(\"#d3-cell-0\").select(selection);\n",
      "}\n",
      "d3.selectAll0 = function(selection) {\n",
      "    return _select(\"#d3-cell-0\").selectAll(selection);\n",
      "}\n",
      "</script>\n",
      "\n",
      "<g id=\"d3-cell-0\">\n",
      "\n",
      "<g id=\"container\"></g>\n",
      "\n",
      "<script>\n",
      "d3.select0(\"#container\").append(\"p\").text(\"Hello world!\");\n",
      "</script>\n",
      "</g>\n"
     ]
    },
    {
     "data": {
      "text/html": [
       "\n",
       "<script>\n",
       "requirejs.config({\n",
       "    paths: {\n",
       "        d3: \"//cdnjs.cloudflare.com/ajax/libs/d3/4.13.0/d3\"\n",
       "    }\n",
       "});\n",
       "\n",
       "require([\"d3\"], function(d3) {\n",
       "    window.d3 = d3;\n",
       "});\n",
       "</script>\n",
       "<script>\n",
       "_select = d3.select;\n",
       "\n",
       "d3.select0 = function(selection) {\n",
       "    return _select(\"#d3-cell-0\").select(selection);\n",
       "}\n",
       "d3.selectAll0 = function(selection) {\n",
       "    return _select(\"#d3-cell-0\").selectAll(selection);\n",
       "}\n",
       "</script>\n",
       "\n",
       "<g id=\"d3-cell-0\">\n",
       "\n",
       "<g id=\"container\"></g>\n",
       "\n",
       "<script>\n",
       "d3.select0(\"#container\").append(\"p\").text(\"Hello world!\");\n",
       "</script>\n",
       "</g>"
      ],
      "text/plain": [
       "<IPython.core.display.HTML object>"
      ]
     },
     "metadata": {},
     "output_type": "display_data"
    }
   ],
   "source": [
    "%%d3 -v\n",
    "\n",
    "<g id=\"container\"></g>\n",
    "\n",
    "<script>\n",
    "d3.select(\"#container\").append(\"p\").text(\"Hello world!\");\n",
    "</script>"
   ]
  },
  {
   "cell_type": "markdown",
   "metadata": {},
   "source": [
    "> See also: \n",
    "- [`%%d3 examples` usage](%d3-examples.ipynb)\n",
    "- [`%%d3 generator` usage](%d3-generator.ipynb)"
   ]
  }
 ],
 "metadata": {
  "kernelspec": {
   "display_name": "Python 3",
   "language": "python",
   "name": "python3"
  },
  "language_info": {
   "codemirror_mode": {
    "name": "ipython",
    "version": 3
   },
   "file_extension": ".py",
   "mimetype": "text/x-python",
   "name": "python",
   "nbconvert_exporter": "python",
   "pygments_lexer": "ipython3",
   "version": "3.6.4"
  }
 },
 "nbformat": 4,
 "nbformat_minor": 2
}
