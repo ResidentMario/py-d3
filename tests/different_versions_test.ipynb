{
 "cells": [
  {
   "cell_type": "code",
   "execution_count": 3,
   "metadata": {},
   "outputs": [],
   "source": [
    "%run ../py_d3/py_d3.py"
   ]
  },
  {
   "cell_type": "markdown",
   "metadata": {},
   "source": [
    "### Code v4+ only\n",
    "If you run this code first, the execution of the other will crash and viceversa"
   ]
  },
  {
   "cell_type": "code",
   "execution_count": 4,
   "metadata": {},
   "outputs": [
    {
     "data": {
      "text/html": [
       "\n",
       "<script>\n",
       "requirejs.config({\n",
       "    paths: {\n",
       "        d3: \"//cdnjs.cloudflare.com/ajax/libs/d3/4.13.0/d3\"\n",
       "    }\n",
       "});\n",
       "\n",
       "require(['d3'], function(d3) {\n",
       "    window.d3 = d3;\n",
       "});\n",
       "</script>\n",
       "<script>\n",
       "_select = d3.select;\n",
       "\n",
       "d3.select0 = function(selection) {\n",
       "    return _select(\"#d3-cell-0\").select(selection);\n",
       "}\n",
       "d3.selectAll0 = function(selection) {\n",
       "    return _select(\"#d3-cell-0\").selectAll(selection);\n",
       "}\n",
       "</script>\n",
       "<g id=\"d3-cell-0\">\n",
       "<script>\n",
       "/* This code crash in lower versions of D3 than 4.0.0 */\n",
       "\n",
       "var lineFun = d3.line()\n",
       "    .x(function(d){return d.month*50})\n",
       "    .y(function(d){return height - (10* d.Sales)})\n",
       "    .curve(d3.curveBasis);\n",
       "</script>\n",
       "</g>"
      ],
      "text/plain": [
       "<IPython.core.display.HTML object>"
      ]
     },
     "metadata": {},
     "output_type": "display_data"
    }
   ],
   "source": [
    "%%d3\n",
    "<script>\n",
    "/* This code crash in lower versions of D3 than 4.0.0 */\n",
    "\n",
    "var lineFun = d3.line()\n",
    "    .x(function(d){return d.month*50})\n",
    "    .y(function(d){return height - (10* d.Sales)})\n",
    "    .curve(d3.curveBasis);\n",
    "</script>"
   ]
  },
  {
   "cell_type": "markdown",
   "metadata": {},
   "source": [
    "### Code v4- only"
   ]
  },
  {
   "cell_type": "code",
   "execution_count": 5,
   "metadata": {},
   "outputs": [
    {
     "name": "stdout",
     "output_type": "stream",
     "text": [
      "The first source of D3 used in this notebook is //cdnjs.cloudflare.com/ajax/libs/d3/4.13.0/d3. You can't use different versions of D3 library in the same Notebook. Please close, reopen the notebook and load your desired version at first.\n"
     ]
    }
   ],
   "source": [
    "%%d3 \"3.5.17\"\n",
    "<script>\n",
    "/* This code crash in 4.0.0 and greater versions of D3 */\n",
    "\n",
    "var lineFun = d3.svg.line()\n",
    "    .x(function(d){return d.month*50})\n",
    "    .y(function(d){return height - (10* d.Sales)})\n",
    "    .interpolate(\"basis\")\n",
    "</script>"
   ]
  }
 ],
 "metadata": {
  "kernelspec": {
   "display_name": "Python 3",
   "language": "python",
   "name": "python3"
  },
  "language_info": {
   "codemirror_mode": {
    "name": "ipython",
    "version": 3
   },
   "file_extension": ".py",
   "mimetype": "text/x-python",
   "name": "python",
   "nbconvert_exporter": "python",
   "pygments_lexer": "ipython3",
   "version": "3.6.4"
  }
 },
 "nbformat": 4,
 "nbformat_minor": 2
}
